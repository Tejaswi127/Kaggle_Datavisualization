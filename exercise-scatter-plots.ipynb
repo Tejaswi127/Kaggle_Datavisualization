{
 "cells": [
  {
   "cell_type": "markdown",
   "id": "e5ae495c",
   "metadata": {
    "papermill": {
     "duration": 0.011661,
     "end_time": "2022-07-01T04:51:37.706985",
     "exception": false,
     "start_time": "2022-07-01T04:51:37.695324",
     "status": "completed"
    },
    "tags": []
   },
   "source": [
    "**This notebook is an exercise in the [Data Visualization](https://www.kaggle.com/learn/data-visualization) course.  You can reference the tutorial at [this link](https://www.kaggle.com/alexisbcook/scatter-plots).**\n",
    "\n",
    "---\n"
   ]
  },
  {
   "cell_type": "markdown",
   "id": "637fe664",
   "metadata": {
    "papermill": {
     "duration": 0.00942,
     "end_time": "2022-07-01T04:51:37.727162",
     "exception": false,
     "start_time": "2022-07-01T04:51:37.717742",
     "status": "completed"
    },
    "tags": []
   },
   "source": [
    "In this exercise, you will use your new knowledge to propose a solution to a real-world scenario.  To succeed, you will need to import data into Python, answer questions using the data, and generate **scatter plots** to understand patterns in the data.\n",
    "\n",
    "## Scenario\n",
    "\n",
    "You work for a major candy producer, and your goal is to write a report that your company can use to guide the design of its next product.  Soon after starting your research, you stumble across this [very interesting dataset](https://fivethirtyeight.com/features/the-ultimate-halloween-candy-power-ranking/) containing results from a fun survey to crowdsource favorite candies.\n",
    "\n",
    "## Setup\n",
    "\n",
    "Run the next cell to import and configure the Python libraries that you need to complete the exercise."
   ]
  },
  {
   "cell_type": "code",
   "execution_count": 1,
   "id": "4d4eb4db",
   "metadata": {
    "execution": {
     "iopub.execute_input": "2022-07-01T04:51:37.749448Z",
     "iopub.status.busy": "2022-07-01T04:51:37.748948Z",
     "iopub.status.idle": "2022-07-01T04:51:39.039160Z",
     "shell.execute_reply": "2022-07-01T04:51:39.037083Z"
    },
    "papermill": {
     "duration": 1.305562,
     "end_time": "2022-07-01T04:51:39.042870",
     "exception": false,
     "start_time": "2022-07-01T04:51:37.737308",
     "status": "completed"
    },
    "tags": []
   },
   "outputs": [
    {
     "name": "stdout",
     "output_type": "stream",
     "text": [
      "Setup Complete\n"
     ]
    }
   ],
   "source": [
    "import pandas as pd\n",
    "pd.plotting.register_matplotlib_converters()\n",
    "import matplotlib.pyplot as plt\n",
    "%matplotlib inline\n",
    "import seaborn as sns\n",
    "print(\"Setup Complete\")"
   ]
  },
  {
   "cell_type": "markdown",
   "id": "285f6ebc",
   "metadata": {
    "papermill": {
     "duration": 0.010061,
     "end_time": "2022-07-01T04:51:39.063551",
     "exception": false,
     "start_time": "2022-07-01T04:51:39.053490",
     "status": "completed"
    },
    "tags": []
   },
   "source": [
    "The questions below will give you feedback on your work. Run the following cell to set up our feedback system."
   ]
  },
  {
   "cell_type": "code",
   "execution_count": 2,
   "id": "88043b83",
   "metadata": {
    "execution": {
     "iopub.execute_input": "2022-07-01T04:51:39.086410Z",
     "iopub.status.busy": "2022-07-01T04:51:39.085432Z",
     "iopub.status.idle": "2022-07-01T04:51:39.157099Z",
     "shell.execute_reply": "2022-07-01T04:51:39.155948Z"
    },
    "papermill": {
     "duration": 0.086903,
     "end_time": "2022-07-01T04:51:39.160581",
     "exception": false,
     "start_time": "2022-07-01T04:51:39.073678",
     "status": "completed"
    },
    "tags": []
   },
   "outputs": [
    {
     "name": "stdout",
     "output_type": "stream",
     "text": [
      "Setup Complete\n"
     ]
    }
   ],
   "source": [
    "# Set up code checking\n",
    "import os\n",
    "if not os.path.exists(\"../input/candy.csv\"):\n",
    "    os.symlink(\"../input/data-for-datavis/candy.csv\", \"../input/candy.csv\") \n",
    "from learntools.core import binder\n",
    "binder.bind(globals())\n",
    "from learntools.data_viz_to_coder.ex4 import *\n",
    "print(\"Setup Complete\")"
   ]
  },
  {
   "cell_type": "markdown",
   "id": "5dfd68b9",
   "metadata": {
    "papermill": {
     "duration": 0.01582,
     "end_time": "2022-07-01T04:51:39.194487",
     "exception": false,
     "start_time": "2022-07-01T04:51:39.178667",
     "status": "completed"
    },
    "tags": []
   },
   "source": [
    "## Step 1: Load the Data\n",
    "\n",
    "Read the candy data file into `candy_data`.  Use the `\"id\"` column to label the rows."
   ]
  },
  {
   "cell_type": "code",
   "execution_count": 3,
   "id": "8dc2baff",
   "metadata": {
    "execution": {
     "iopub.execute_input": "2022-07-01T04:51:39.218985Z",
     "iopub.status.busy": "2022-07-01T04:51:39.218539Z",
     "iopub.status.idle": "2022-07-01T04:51:39.235673Z",
     "shell.execute_reply": "2022-07-01T04:51:39.234489Z"
    },
    "papermill": {
     "duration": 0.03104,
     "end_time": "2022-07-01T04:51:39.237903",
     "exception": false,
     "start_time": "2022-07-01T04:51:39.206863",
     "status": "completed"
    },
    "tags": []
   },
   "outputs": [
    {
     "data": {
      "application/javascript": [
       "parent.postMessage({\"jupyterEvent\": \"custom.exercise_interaction\", \"data\": {\"outcomeType\": 1, \"valueTowardsCompletion\": 0.3333333333333333, \"interactionType\": 1, \"questionType\": 1, \"questionId\": \"1_LoadData\", \"learnToolsVersion\": \"0.3.4\", \"failureMessage\": \"\", \"exceptionClass\": \"\", \"trace\": \"\"}}, \"*\")"
      ],
      "text/plain": [
       "<IPython.core.display.Javascript object>"
      ]
     },
     "metadata": {},
     "output_type": "display_data"
    },
    {
     "data": {
      "text/markdown": [
       "<span style=\"color:#33cc33\">Correct</span>"
      ],
      "text/plain": [
       "Correct"
      ]
     },
     "metadata": {},
     "output_type": "display_data"
    }
   ],
   "source": [
    "# Path of the file to read\n",
    "candy_filepath = \"../input/candy.csv\"\n",
    "\n",
    "# Fill in the line below to read the file into a variable candy_data\n",
    "candy_data = pd.read_csv(candy_filepath, index_col=\"id\")\n",
    "\n",
    "# Run the line below with no changes to check that you've loaded the data correctly\n",
    "step_1.check()"
   ]
  },
  {
   "cell_type": "code",
   "execution_count": 4,
   "id": "87da4a7f",
   "metadata": {
    "execution": {
     "iopub.execute_input": "2022-07-01T04:51:39.260978Z",
     "iopub.status.busy": "2022-07-01T04:51:39.260270Z",
     "iopub.status.idle": "2022-07-01T04:51:39.265226Z",
     "shell.execute_reply": "2022-07-01T04:51:39.264302Z"
    },
    "papermill": {
     "duration": 0.019215,
     "end_time": "2022-07-01T04:51:39.267418",
     "exception": false,
     "start_time": "2022-07-01T04:51:39.248203",
     "status": "completed"
    },
    "tags": []
   },
   "outputs": [],
   "source": [
    "# Lines below will give you a hint or solution code\n",
    "#step_1.hint()\n",
    "#step_1.solution()"
   ]
  },
  {
   "cell_type": "markdown",
   "id": "6d9ce146",
   "metadata": {
    "papermill": {
     "duration": 0.01018,
     "end_time": "2022-07-01T04:51:39.288803",
     "exception": false,
     "start_time": "2022-07-01T04:51:39.278623",
     "status": "completed"
    },
    "tags": []
   },
   "source": [
    "## Step 2: Review the data\n",
    "\n",
    "Use a Python command to print the first five rows of the data."
   ]
  },
  {
   "cell_type": "code",
   "execution_count": 5,
   "id": "bf66710f",
   "metadata": {
    "execution": {
     "iopub.execute_input": "2022-07-01T04:51:39.311720Z",
     "iopub.status.busy": "2022-07-01T04:51:39.311238Z",
     "iopub.status.idle": "2022-07-01T04:51:39.337149Z",
     "shell.execute_reply": "2022-07-01T04:51:39.335822Z"
    },
    "papermill": {
     "duration": 0.040692,
     "end_time": "2022-07-01T04:51:39.339787",
     "exception": false,
     "start_time": "2022-07-01T04:51:39.299095",
     "status": "completed"
    },
    "tags": []
   },
   "outputs": [
    {
     "data": {
      "text/html": [
       "<div>\n",
       "<style scoped>\n",
       "    .dataframe tbody tr th:only-of-type {\n",
       "        vertical-align: middle;\n",
       "    }\n",
       "\n",
       "    .dataframe tbody tr th {\n",
       "        vertical-align: top;\n",
       "    }\n",
       "\n",
       "    .dataframe thead th {\n",
       "        text-align: right;\n",
       "    }\n",
       "</style>\n",
       "<table border=\"1\" class=\"dataframe\">\n",
       "  <thead>\n",
       "    <tr style=\"text-align: right;\">\n",
       "      <th></th>\n",
       "      <th>competitorname</th>\n",
       "      <th>chocolate</th>\n",
       "      <th>fruity</th>\n",
       "      <th>caramel</th>\n",
       "      <th>peanutyalmondy</th>\n",
       "      <th>nougat</th>\n",
       "      <th>crispedricewafer</th>\n",
       "      <th>hard</th>\n",
       "      <th>bar</th>\n",
       "      <th>pluribus</th>\n",
       "      <th>sugarpercent</th>\n",
       "      <th>pricepercent</th>\n",
       "      <th>winpercent</th>\n",
       "    </tr>\n",
       "    <tr>\n",
       "      <th>id</th>\n",
       "      <th></th>\n",
       "      <th></th>\n",
       "      <th></th>\n",
       "      <th></th>\n",
       "      <th></th>\n",
       "      <th></th>\n",
       "      <th></th>\n",
       "      <th></th>\n",
       "      <th></th>\n",
       "      <th></th>\n",
       "      <th></th>\n",
       "      <th></th>\n",
       "      <th></th>\n",
       "    </tr>\n",
       "  </thead>\n",
       "  <tbody>\n",
       "    <tr>\n",
       "      <th>0</th>\n",
       "      <td>100 Grand</td>\n",
       "      <td>Yes</td>\n",
       "      <td>No</td>\n",
       "      <td>Yes</td>\n",
       "      <td>No</td>\n",
       "      <td>No</td>\n",
       "      <td>Yes</td>\n",
       "      <td>No</td>\n",
       "      <td>Yes</td>\n",
       "      <td>No</td>\n",
       "      <td>0.732</td>\n",
       "      <td>0.860</td>\n",
       "      <td>66.971725</td>\n",
       "    </tr>\n",
       "    <tr>\n",
       "      <th>1</th>\n",
       "      <td>3 Musketeers</td>\n",
       "      <td>Yes</td>\n",
       "      <td>No</td>\n",
       "      <td>No</td>\n",
       "      <td>No</td>\n",
       "      <td>Yes</td>\n",
       "      <td>No</td>\n",
       "      <td>No</td>\n",
       "      <td>Yes</td>\n",
       "      <td>No</td>\n",
       "      <td>0.604</td>\n",
       "      <td>0.511</td>\n",
       "      <td>67.602936</td>\n",
       "    </tr>\n",
       "    <tr>\n",
       "      <th>2</th>\n",
       "      <td>Air Heads</td>\n",
       "      <td>No</td>\n",
       "      <td>Yes</td>\n",
       "      <td>No</td>\n",
       "      <td>No</td>\n",
       "      <td>No</td>\n",
       "      <td>No</td>\n",
       "      <td>No</td>\n",
       "      <td>No</td>\n",
       "      <td>No</td>\n",
       "      <td>0.906</td>\n",
       "      <td>0.511</td>\n",
       "      <td>52.341465</td>\n",
       "    </tr>\n",
       "    <tr>\n",
       "      <th>3</th>\n",
       "      <td>Almond Joy</td>\n",
       "      <td>Yes</td>\n",
       "      <td>No</td>\n",
       "      <td>No</td>\n",
       "      <td>Yes</td>\n",
       "      <td>No</td>\n",
       "      <td>No</td>\n",
       "      <td>No</td>\n",
       "      <td>Yes</td>\n",
       "      <td>No</td>\n",
       "      <td>0.465</td>\n",
       "      <td>0.767</td>\n",
       "      <td>50.347546</td>\n",
       "    </tr>\n",
       "    <tr>\n",
       "      <th>4</th>\n",
       "      <td>Baby Ruth</td>\n",
       "      <td>Yes</td>\n",
       "      <td>No</td>\n",
       "      <td>Yes</td>\n",
       "      <td>Yes</td>\n",
       "      <td>Yes</td>\n",
       "      <td>No</td>\n",
       "      <td>No</td>\n",
       "      <td>Yes</td>\n",
       "      <td>No</td>\n",
       "      <td>0.604</td>\n",
       "      <td>0.767</td>\n",
       "      <td>56.914547</td>\n",
       "    </tr>\n",
       "  </tbody>\n",
       "</table>\n",
       "</div>"
      ],
      "text/plain": [
       "   competitorname chocolate fruity caramel peanutyalmondy nougat  \\\n",
       "id                                                                 \n",
       "0       100 Grand       Yes     No     Yes             No     No   \n",
       "1    3 Musketeers       Yes     No      No             No    Yes   \n",
       "2       Air Heads        No    Yes      No             No     No   \n",
       "3      Almond Joy       Yes     No      No            Yes     No   \n",
       "4       Baby Ruth       Yes     No     Yes            Yes    Yes   \n",
       "\n",
       "   crispedricewafer hard  bar pluribus  sugarpercent  pricepercent  winpercent  \n",
       "id                                                                              \n",
       "0               Yes   No  Yes       No         0.732         0.860   66.971725  \n",
       "1                No   No  Yes       No         0.604         0.511   67.602936  \n",
       "2                No   No   No       No         0.906         0.511   52.341465  \n",
       "3                No   No  Yes       No         0.465         0.767   50.347546  \n",
       "4                No   No  Yes       No         0.604         0.767   56.914547  "
      ]
     },
     "execution_count": 5,
     "metadata": {},
     "output_type": "execute_result"
    }
   ],
   "source": [
    "# Print the first five rows of the data\n",
    "candy_data.head()\n",
    "# Your code here"
   ]
  },
  {
   "cell_type": "markdown",
   "id": "73045ed7",
   "metadata": {
    "papermill": {
     "duration": 0.010422,
     "end_time": "2022-07-01T04:51:39.361194",
     "exception": false,
     "start_time": "2022-07-01T04:51:39.350772",
     "status": "completed"
    },
    "tags": []
   },
   "source": [
    "The dataset contains 83 rows, where each corresponds to a different candy bar.  There are 13 columns:\n",
    "- `'competitorname'` contains the name of the candy bar. \n",
    "- the next **9** columns (from `'chocolate'` to `'pluribus'`) describe the candy.  For instance, rows with chocolate candies have `\"Yes\"` in the `'chocolate'` column (and candies without chocolate have `\"No\"` in the same column).\n",
    "- `'sugarpercent'` provides some indication of the amount of sugar, where higher values signify higher sugar content.\n",
    "- `'pricepercent'` shows the price per unit, relative to the other candies in the dataset.\n",
    "- `'winpercent'` is calculated from the survey results; higher values indicate that the candy was more popular with survey respondents.\n",
    "\n",
    "Use the first five rows of the data to answer the questions below."
   ]
  },
  {
   "cell_type": "code",
   "execution_count": 6,
   "id": "d96afba0",
   "metadata": {
    "execution": {
     "iopub.execute_input": "2022-07-01T04:51:39.385354Z",
     "iopub.status.busy": "2022-07-01T04:51:39.384093Z",
     "iopub.status.idle": "2022-07-01T04:51:39.392692Z",
     "shell.execute_reply": "2022-07-01T04:51:39.391850Z"
    },
    "papermill": {
     "duration": 0.023485,
     "end_time": "2022-07-01T04:51:39.395368",
     "exception": false,
     "start_time": "2022-07-01T04:51:39.371883",
     "status": "completed"
    },
    "tags": []
   },
   "outputs": [
    {
     "data": {
      "application/javascript": [
       "parent.postMessage({\"jupyterEvent\": \"custom.exercise_interaction\", \"data\": {\"outcomeType\": 1, \"valueTowardsCompletion\": 0.3333333333333333, \"interactionType\": 1, \"questionType\": 1, \"questionId\": \"2_ReviewData\", \"learnToolsVersion\": \"0.3.4\", \"failureMessage\": \"\", \"exceptionClass\": \"\", \"trace\": \"\"}}, \"*\")"
      ],
      "text/plain": [
       "<IPython.core.display.Javascript object>"
      ]
     },
     "metadata": {},
     "output_type": "display_data"
    },
    {
     "data": {
      "text/markdown": [
       "<span style=\"color:#33cc33\">Correct</span>"
      ],
      "text/plain": [
       "Correct"
      ]
     },
     "metadata": {},
     "output_type": "display_data"
    }
   ],
   "source": [
    "# Fill in the line below: Which candy was more popular with survey respondents:\n",
    "# '3 Musketeers' or 'Almond Joy'?  (Please enclose your answer in single quotes.)\n",
    "more_popular = '3 Musketeers'\n",
    "\n",
    "# Fill in the line below: Which candy has higher sugar content: 'Air Heads'\n",
    "# or 'Baby Ruth'? (Please enclose your answer in single quotes.)\n",
    "more_sugar = 'Air Heads'\n",
    "\n",
    "# Check your answers\n",
    "step_2.check()"
   ]
  },
  {
   "cell_type": "code",
   "execution_count": 7,
   "id": "355d2df3",
   "metadata": {
    "execution": {
     "iopub.execute_input": "2022-07-01T04:51:39.420911Z",
     "iopub.status.busy": "2022-07-01T04:51:39.419539Z",
     "iopub.status.idle": "2022-07-01T04:51:39.424310Z",
     "shell.execute_reply": "2022-07-01T04:51:39.423467Z"
    },
    "papermill": {
     "duration": 0.019558,
     "end_time": "2022-07-01T04:51:39.426390",
     "exception": false,
     "start_time": "2022-07-01T04:51:39.406832",
     "status": "completed"
    },
    "tags": []
   },
   "outputs": [],
   "source": [
    "# Lines below will give you a hint or solution code\n",
    "#step_2.hint()\n",
    "#step_2.solution()"
   ]
  },
  {
   "cell_type": "markdown",
   "id": "fbdd7d02",
   "metadata": {
    "papermill": {
     "duration": 0.011073,
     "end_time": "2022-07-01T04:51:39.448808",
     "exception": false,
     "start_time": "2022-07-01T04:51:39.437735",
     "status": "completed"
    },
    "tags": []
   },
   "source": [
    "## Step 3: The role of sugar\n",
    "\n",
    "Do people tend to prefer candies with higher sugar content?  \n",
    "\n",
    "#### Part A\n",
    "\n",
    "Create a scatter plot that shows the relationship between `'sugarpercent'` (on the horizontal x-axis) and `'winpercent'` (on the vertical y-axis).  _Don't add a regression line just yet -- you'll do that in the next step!_"
   ]
  },
  {
   "cell_type": "code",
   "execution_count": 8,
   "id": "6d36aadf",
   "metadata": {
    "execution": {
     "iopub.execute_input": "2022-07-01T04:51:39.474395Z",
     "iopub.status.busy": "2022-07-01T04:51:39.473619Z",
     "iopub.status.idle": "2022-07-01T04:51:39.720732Z",
     "shell.execute_reply": "2022-07-01T04:51:39.719559Z"
    },
    "papermill": {
     "duration": 0.262903,
     "end_time": "2022-07-01T04:51:39.723387",
     "exception": false,
     "start_time": "2022-07-01T04:51:39.460484",
     "status": "completed"
    },
    "tags": []
   },
   "outputs": [
    {
     "data": {
      "application/javascript": [
       "parent.postMessage({\"jupyterEvent\": \"custom.exercise_interaction\", \"data\": {\"outcomeType\": 1, \"valueTowardsCompletion\": 0.3333333333333333, \"interactionType\": 1, \"questionType\": 2, \"questionId\": \"3.1_PlotBlueScatter\", \"learnToolsVersion\": \"0.3.4\", \"failureMessage\": \"\", \"exceptionClass\": \"\", \"trace\": \"\"}}, \"*\")"
      ],
      "text/plain": [
       "<IPython.core.display.Javascript object>"
      ]
     },
     "metadata": {},
     "output_type": "display_data"
    },
    {
     "data": {
      "text/markdown": [
       "<span style=\"color:#33cc33\">Correct</span>"
      ],
      "text/plain": [
       "Correct"
      ]
     },
     "metadata": {},
     "output_type": "display_data"
    },
    {
     "data": {
      "image/png": "[encoded data removed]",
      "text/plain": [
       "<Figure size 432x288 with 1 Axes>"
      ]
     },
     "metadata": {
      "needs_background": "light"
     },
     "output_type": "display_data"
    }
   ],
   "source": [
    "# Scatter plot showing the relationship between 'sugarpercent' and 'winpercent'\n",
    "sns.scatterplot(x=candy_data['sugarpercent'], y=candy_data['winpercent'])\n",
    "# Your code here\n",
    "\n",
    "# Check your answer\n",
    "step_3.a.check()"
   ]
  },
  {
   "cell_type": "code",
   "execution_count": 9,
   "id": "7efeac9f",
   "metadata": {
    "execution": {
     "iopub.execute_input": "2022-07-01T04:51:39.749723Z",
     "iopub.status.busy": "2022-07-01T04:51:39.748657Z",
     "iopub.status.idle": "2022-07-01T04:51:39.754058Z",
     "shell.execute_reply": "2022-07-01T04:51:39.753106Z"
    },
    "papermill": {
     "duration": 0.020683,
     "end_time": "2022-07-01T04:51:39.756445",
     "exception": false,
     "start_time": "2022-07-01T04:51:39.735762",
     "status": "completed"
    },
    "tags": []
   },
   "outputs": [],
   "source": [
    "# Lines below will give you a hint or solution code\n",
    "#step_3.a.hint()\n",
    "#step_3.a.solution_plot()"
   ]
  },
  {
   "cell_type": "markdown",
   "id": "f78c1830",
   "metadata": {
    "papermill": {
     "duration": 0.011542,
     "end_time": "2022-07-01T04:51:39.779531",
     "exception": false,
     "start_time": "2022-07-01T04:51:39.767989",
     "status": "completed"
    },
    "tags": []
   },
   "source": [
    "#### Part B\n",
    "\n",
    "Does the scatter plot show a **strong** correlation between the two variables?  If so, are candies with more sugar relatively more or less popular with the survey respondents?"
   ]
  },
  {
   "cell_type": "code",
   "execution_count": 10,
   "id": "eb27012d",
   "metadata": {
    "execution": {
     "iopub.execute_input": "2022-07-01T04:51:39.804283Z",
     "iopub.status.busy": "2022-07-01T04:51:39.803878Z",
     "iopub.status.idle": "2022-07-01T04:51:39.808008Z",
     "shell.execute_reply": "2022-07-01T04:51:39.807239Z"
    },
    "papermill": {
     "duration": 0.018725,
     "end_time": "2022-07-01T04:51:39.809834",
     "exception": false,
     "start_time": "2022-07-01T04:51:39.791109",
     "status": "completed"
    },
    "tags": []
   },
   "outputs": [],
   "source": [
    "#step_3.b.hint()"
   ]
  },
  {
   "cell_type": "code",
   "execution_count": 11,
   "id": "a988464b",
   "metadata": {
    "execution": {
     "iopub.execute_input": "2022-07-01T04:51:39.835579Z",
     "iopub.status.busy": "2022-07-01T04:51:39.834804Z",
     "iopub.status.idle": "2022-07-01T04:51:39.842039Z",
     "shell.execute_reply": "2022-07-01T04:51:39.841235Z"
    },
    "papermill": {
     "duration": 0.022179,
     "end_time": "2022-07-01T04:51:39.844129",
     "exception": false,
     "start_time": "2022-07-01T04:51:39.821950",
     "status": "completed"
    },
    "tags": []
   },
   "outputs": [
    {
     "data": {
      "application/javascript": [
       "parent.postMessage({\"jupyterEvent\": \"custom.exercise_interaction\", \"data\": {\"interactionType\": 3, \"questionType\": 4, \"questionId\": \"3.2_ThinkBlueScatter\", \"learnToolsVersion\": \"0.3.4\", \"valueTowardsCompletion\": 0.0, \"failureMessage\": \"\", \"exceptionClass\": \"\", \"trace\": \"\", \"outcomeType\": 4}}, \"*\")"
      ],
      "text/plain": [
       "<IPython.core.display.Javascript object>"
      ]
     },
     "metadata": {},
     "output_type": "display_data"
    },
    {
     "data": {
      "text/markdown": [
       "<span style=\"color:#33cc99\">Solution:</span> The scatter plot does not show a strong correlation between the two variables. Since there is no clear relationship between the two variables, this tells us that sugar content does not play a strong role in candy popularity."
      ],
      "text/plain": [
       "Solution: The scatter plot does not show a strong correlation between the two variables. Since there is no clear relationship between the two variables, this tells us that sugar content does not play a strong role in candy popularity."
      ]
     },
     "metadata": {},
     "output_type": "display_data"
    }
   ],
   "source": [
    "# Check your answer (Run this code cell to receive credit!)\n",
    "step_3.b.solution()"
   ]
  },
  {
   "cell_type": "markdown",
   "id": "a683ef53",
   "metadata": {
    "papermill": {
     "duration": 0.011239,
     "end_time": "2022-07-01T04:51:39.867034",
     "exception": false,
     "start_time": "2022-07-01T04:51:39.855795",
     "status": "completed"
    },
    "tags": []
   },
   "source": [
    "## Step 4: Take a closer look\n",
    "\n",
    "#### Part A\n",
    "\n",
    "Create the same scatter plot you created in **Step 3**, but now with a regression line!"
   ]
  },
  {
   "cell_type": "code",
   "execution_count": 12,
   "id": "219afd9d",
   "metadata": {
    "execution": {
     "iopub.execute_input": "2022-07-01T04:51:39.892692Z",
     "iopub.status.busy": "2022-07-01T04:51:39.892308Z",
     "iopub.status.idle": "2022-07-01T04:51:40.192144Z",
     "shell.execute_reply": "2022-07-01T04:51:40.191009Z"
    },
    "papermill": {
     "duration": 0.315337,
     "end_time": "2022-07-01T04:51:40.194564",
     "exception": false,
     "start_time": "2022-07-01T04:51:39.879227",
     "status": "completed"
    },
    "tags": []
   },
   "outputs": [
    {
     "data": {
      "application/javascript": [
       "parent.postMessage({\"jupyterEvent\": \"custom.exercise_interaction\", \"data\": {\"outcomeType\": 1, \"valueTowardsCompletion\": 0.3333333333333333, \"interactionType\": 1, \"questionType\": 2, \"questionId\": \"4.1_PlotBlueReg\", \"learnToolsVersion\": \"0.3.4\", \"failureMessage\": \"\", \"exceptionClass\": \"\", \"trace\": \"\"}}, \"*\")"
      ],
      "text/plain": [
       "<IPython.core.display.Javascript object>"
      ]
     },
     "metadata": {},
     "output_type": "display_data"
    },
    {
     "data": {
      "text/markdown": [
       "<span style=\"color:#33cc33\">Correct</span>"
      ],
      "text/plain": [
       "Correct"
      ]
     },
     "metadata": {},
     "output_type": "display_data"
    },
    {
     "data": {
      "image/png": "[encoded data removed]",
      "text/plain": [
       "<Figure size 432x288 with 1 Axes>"
      ]
     },
     "metadata": {
      "needs_background": "light"
     },
     "output_type": "display_data"
    }
   ],
   "source": [
    "# Scatter plot w/ regression line showing the relationship between 'sugarpercent' and 'winpercent'\n",
    "\n",
    "# Your code\n",
    "sns.regplot(x=candy_data['sugarpercent'], y=candy_data['winpercent'])\n",
    "# Check your answer\n",
    "step_4.a.check()"
   ]
  },
  {
   "cell_type": "code",
   "execution_count": 13,
   "id": "68892566",
   "metadata": {
    "execution": {
     "iopub.execute_input": "2022-07-01T04:51:40.220736Z",
     "iopub.status.busy": "2022-07-01T04:51:40.220372Z",
     "iopub.status.idle": "2022-07-01T04:51:40.225008Z",
     "shell.execute_reply": "2022-07-01T04:51:40.223739Z"
    },
    "papermill": {
     "duration": 0.020453,
     "end_time": "2022-07-01T04:51:40.227476",
     "exception": false,
     "start_time": "2022-07-01T04:51:40.207023",
     "status": "completed"
    },
    "tags": []
   },
   "outputs": [],
   "source": [
    "# Lines below will give you a hint or solution code\n",
    "#step_4.a.hint()\n",
    "#step_4.a.solution_plot()"
   ]
  },
  {
   "cell_type": "markdown",
   "id": "baa6c4f1",
   "metadata": {
    "papermill": {
     "duration": 0.011931,
     "end_time": "2022-07-01T04:51:40.251978",
     "exception": false,
     "start_time": "2022-07-01T04:51:40.240047",
     "status": "completed"
    },
    "tags": []
   },
   "source": [
    "#### Part B\n",
    "\n",
    "According to the plot above, is there a **slight** correlation between `'winpercent'` and `'sugarpercent'`?  What does this tell you about the candy that people tend to prefer?"
   ]
  },
  {
   "cell_type": "code",
   "execution_count": 14,
   "id": "3167a372",
   "metadata": {
    "execution": {
     "iopub.execute_input": "2022-07-01T04:51:40.278127Z",
     "iopub.status.busy": "2022-07-01T04:51:40.277755Z",
     "iopub.status.idle": "2022-07-01T04:51:40.282643Z",
     "shell.execute_reply": "2022-07-01T04:51:40.281334Z"
    },
    "papermill": {
     "duration": 0.020761,
     "end_time": "2022-07-01T04:51:40.284999",
     "exception": false,
     "start_time": "2022-07-01T04:51:40.264238",
     "status": "completed"
    },
    "tags": []
   },
   "outputs": [],
   "source": [
    "#step_4.b.hint()"
   ]
  },
  {
   "cell_type": "code",
   "execution_count": 15,
   "id": "cdb150be",
   "metadata": {
    "execution": {
     "iopub.execute_input": "2022-07-01T04:51:40.311401Z",
     "iopub.status.busy": "2022-07-01T04:51:40.311005Z",
     "iopub.status.idle": "2022-07-01T04:51:40.318639Z",
     "shell.execute_reply": "2022-07-01T04:51:40.317771Z"
    },
    "papermill": {
     "duration": 0.02306,
     "end_time": "2022-07-01T04:51:40.320609",
     "exception": false,
     "start_time": "2022-07-01T04:51:40.297549",
     "status": "completed"
    },
    "tags": []
   },
   "outputs": [
    {
     "data": {
      "application/javascript": [
       "parent.postMessage({\"jupyterEvent\": \"custom.exercise_interaction\", \"data\": {\"interactionType\": 3, \"questionType\": 4, \"questionId\": \"4.2_ThinkBlueReg\", \"learnToolsVersion\": \"0.3.4\", \"valueTowardsCompletion\": 0.0, \"failureMessage\": \"\", \"exceptionClass\": \"\", \"trace\": \"\", \"outcomeType\": 4}}, \"*\")"
      ],
      "text/plain": [
       "<IPython.core.display.Javascript object>"
      ]
     },
     "metadata": {},
     "output_type": "display_data"
    },
    {
     "data": {
      "text/markdown": [
       "<span style=\"color:#33cc99\">Solution:</span> Since the regression line has a slightly positive slope, this tells us that there is a slightly positive correlation between `'winpercent'` and `'sugarpercent'`. Thus, people have a slight preference for candies containing relatively more sugar."
      ],
      "text/plain": [
       "Solution: Since the regression line has a slightly positive slope, this tells us that there is a slightly positive correlation between `'winpercent'` and `'sugarpercent'`. Thus, people have a slight preference for candies containing relatively more sugar."
      ]
     },
     "metadata": {},
     "output_type": "display_data"
    }
   ],
   "source": [
    "# Check your answer (Run this code cell to receive credit!)\n",
    "step_4.b.solution()"
   ]
  },
  {
   "cell_type": "markdown",
   "id": "91517ca8",
   "metadata": {
    "papermill": {
     "duration": 0.012131,
     "end_time": "2022-07-01T04:51:40.345201",
     "exception": false,
     "start_time": "2022-07-01T04:51:40.333070",
     "status": "completed"
    },
    "tags": []
   },
   "source": [
    "## Step 5: Chocolate!\n",
    "\n",
    "In the code cell below, create a scatter plot to show the relationship between `'pricepercent'` (on the horizontal x-axis) and `'winpercent'` (on the vertical y-axis). Use the `'chocolate'` column to color-code the points.  _Don't add any regression lines just yet -- you'll do that in the next step!_"
   ]
  },
  {
   "cell_type": "code",
   "execution_count": 16,
   "id": "f5f66f64",
   "metadata": {
    "execution": {
     "iopub.execute_input": "2022-07-01T04:51:40.373242Z",
     "iopub.status.busy": "2022-07-01T04:51:40.372461Z",
     "iopub.status.idle": "2022-07-01T04:51:40.622860Z",
     "shell.execute_reply": "2022-07-01T04:51:40.621972Z"
    },
    "papermill": {
     "duration": 0.266739,
     "end_time": "2022-07-01T04:51:40.625159",
     "exception": false,
     "start_time": "2022-07-01T04:51:40.358420",
     "status": "completed"
    },
    "tags": []
   },
   "outputs": [
    {
     "data": {
      "application/javascript": [
       "parent.postMessage({\"jupyterEvent\": \"custom.exercise_interaction\", \"data\": {\"outcomeType\": 1, \"valueTowardsCompletion\": 0.3333333333333333, \"interactionType\": 1, \"questionType\": 2, \"questionId\": \"5_ColorScatter\", \"learnToolsVersion\": \"0.3.4\", \"failureMessage\": \"\", \"exceptionClass\": \"\", \"trace\": \"\"}}, \"*\")"
      ],
      "text/plain": [
       "<IPython.core.display.Javascript object>"
      ]
     },
     "metadata": {},
     "output_type": "display_data"
    },
    {
     "data": {
      "text/markdown": [
       "<span style=\"color:#33cc33\">Correct</span>"
      ],
      "text/plain": [
       "Correct"
      ]
     },
     "metadata": {},
     "output_type": "display_data"
    },
    {
     "data": {
      "image/png": "[encoded data removed]",
      "text/plain": [
       "<Figure size 432x288 with 1 Axes>"
      ]
     },
     "metadata": {
      "needs_background": "light"
     },
     "output_type": "display_data"
    }
   ],
   "source": [
    "# Scatter plot showing the relationship between 'pricepercent', 'winpercent', and 'chocolate'\n",
    " \n",
    "# Your code here\n",
    "sns.scatterplot(x=candy_data['pricepercent'], y=candy_data['winpercent'], hue=candy_data['chocolate'])\n",
    "# Check your answer\n",
    "step_5.check()"
   ]
  },
  {
   "cell_type": "code",
   "execution_count": 17,
   "id": "75ec23c4",
   "metadata": {
    "execution": {
     "iopub.execute_input": "2022-07-01T04:51:40.654749Z",
     "iopub.status.busy": "2022-07-01T04:51:40.653690Z",
     "iopub.status.idle": "2022-07-01T04:51:40.658240Z",
     "shell.execute_reply": "2022-07-01T04:51:40.657429Z"
    },
    "papermill": {
     "duration": 0.021449,
     "end_time": "2022-07-01T04:51:40.660430",
     "exception": false,
     "start_time": "2022-07-01T04:51:40.638981",
     "status": "completed"
    },
    "tags": []
   },
   "outputs": [],
   "source": [
    "# Lines below will give you a hint or solution code\n",
    "#step_5.hint()\n",
    "#step_5.solution_plot()"
   ]
  },
  {
   "cell_type": "markdown",
   "id": "d8599f40",
   "metadata": {
    "papermill": {
     "duration": 0.012877,
     "end_time": "2022-07-01T04:51:40.686562",
     "exception": false,
     "start_time": "2022-07-01T04:51:40.673685",
     "status": "completed"
    },
    "tags": []
   },
   "source": [
    "Can you see any interesting patterns in the scatter plot?  We'll investigate this plot further  by adding regression lines in the next step!\n",
    "\n",
    "## Step 6: Investigate chocolate\n",
    "\n",
    "#### Part A\n",
    "\n",
    "Create the same scatter plot you created in **Step 5**, but now with two regression lines, corresponding to (1) chocolate candies and (2) candies without chocolate."
   ]
  },
  {
   "cell_type": "code",
   "execution_count": 18,
   "id": "ca85524f",
   "metadata": {
    "execution": {
     "iopub.execute_input": "2022-07-01T04:51:40.715121Z",
     "iopub.status.busy": "2022-07-01T04:51:40.714368Z",
     "iopub.status.idle": "2022-07-01T04:51:41.323953Z",
     "shell.execute_reply": "2022-07-01T04:51:41.322838Z"
    },
    "papermill": {
     "duration": 0.626772,
     "end_time": "2022-07-01T04:51:41.326440",
     "exception": false,
     "start_time": "2022-07-01T04:51:40.699668",
     "status": "completed"
    },
    "tags": []
   },
   "outputs": [
    {
     "data": {
      "application/javascript": [
       "parent.postMessage({\"jupyterEvent\": \"custom.exercise_interaction\", \"data\": {\"outcomeType\": 1, \"valueTowardsCompletion\": 0.3333333333333333, \"interactionType\": 1, \"questionType\": 2, \"questionId\": \"6.1_PlotColorReg\", \"learnToolsVersion\": \"0.3.4\", \"failureMessage\": \"\", \"exceptionClass\": \"\", \"trace\": \"\"}}, \"*\")"
      ],
      "text/plain": [
       "<IPython.core.display.Javascript object>"
      ]
     },
     "metadata": {},
     "output_type": "display_data"
    },
    {
     "data": {
      "text/markdown": [
       "<span style=\"color:#33cc33\">Correct</span>"
      ],
      "text/plain": [
       "Correct"
      ]
     },
     "metadata": {},
     "output_type": "display_data"
    },
    {
     "data": {
      "image/png": "[encoded data removed]",
      "text/plain": [
       "<Figure size 416.375x360 with 1 Axes>"
      ]
     },
     "metadata": {
      "needs_background": "light"
     },
     "output_type": "display_data"
    }
   ],
   "source": [
    "# Color-coded scatter plot w/ regression lines\n",
    "\n",
    "# Your code here\n",
    "sns.lmplot(x=\"pricepercent\", y=\"winpercent\", hue=\"chocolate\", data=candy_data)\n",
    "# Check your answer\n",
    "step_6.a.check()"
   ]
  },
  {
   "cell_type": "code",
   "execution_count": 19,
   "id": "f19769d5",
   "metadata": {
    "execution": {
     "iopub.execute_input": "2022-07-01T04:51:41.356975Z",
     "iopub.status.busy": "2022-07-01T04:51:41.356185Z",
     "iopub.status.idle": "2022-07-01T04:51:41.360743Z",
     "shell.execute_reply": "2022-07-01T04:51:41.360016Z"
    },
    "papermill": {
     "duration": 0.022235,
     "end_time": "2022-07-01T04:51:41.362940",
     "exception": false,
     "start_time": "2022-07-01T04:51:41.340705",
     "status": "completed"
    },
    "tags": []
   },
   "outputs": [],
   "source": [
    "# Lines below will give you a hint or solution code\n",
    "#step_6.a.hint()\n",
    "#step_6.a.solution_plot()"
   ]
  },
  {
   "cell_type": "markdown",
   "id": "2adec915",
   "metadata": {
    "papermill": {
     "duration": 0.013748,
     "end_time": "2022-07-01T04:51:41.390807",
     "exception": false,
     "start_time": "2022-07-01T04:51:41.377059",
     "status": "completed"
    },
    "tags": []
   },
   "source": [
    "#### Part B\n",
    "\n",
    "Using the regression lines, what conclusions can you draw about the effects of chocolate and price on candy popularity?"
   ]
  },
  {
   "cell_type": "code",
   "execution_count": 20,
   "id": "d2861d00",
   "metadata": {
    "execution": {
     "iopub.execute_input": "2022-07-01T04:51:41.420891Z",
     "iopub.status.busy": "2022-07-01T04:51:41.420122Z",
     "iopub.status.idle": "2022-07-01T04:51:41.424866Z",
     "shell.execute_reply": "2022-07-01T04:51:41.423958Z"
    },
    "papermill": {
     "duration": 0.022285,
     "end_time": "2022-07-01T04:51:41.427038",
     "exception": false,
     "start_time": "2022-07-01T04:51:41.404753",
     "status": "completed"
    },
    "tags": []
   },
   "outputs": [],
   "source": [
    "#step_6.b.hint()"
   ]
  },
  {
   "cell_type": "code",
   "execution_count": 21,
   "id": "6766df74",
   "metadata": {
    "execution": {
     "iopub.execute_input": "2022-07-01T04:51:41.457248Z",
     "iopub.status.busy": "2022-07-01T04:51:41.456508Z",
     "iopub.status.idle": "2022-07-01T04:51:41.465418Z",
     "shell.execute_reply": "2022-07-01T04:51:41.464614Z"
    },
    "papermill": {
     "duration": 0.026242,
     "end_time": "2022-07-01T04:51:41.467440",
     "exception": false,
     "start_time": "2022-07-01T04:51:41.441198",
     "status": "completed"
    },
    "tags": []
   },
   "outputs": [
    {
     "data": {
      "application/javascript": [
       "parent.postMessage({\"jupyterEvent\": \"custom.exercise_interaction\", \"data\": {\"interactionType\": 3, \"questionType\": 4, \"questionId\": \"6.2_ThinkColorReg\", \"learnToolsVersion\": \"0.3.4\", \"valueTowardsCompletion\": 0.0, \"failureMessage\": \"\", \"exceptionClass\": \"\", \"trace\": \"\", \"outcomeType\": 4}}, \"*\")"
      ],
      "text/plain": [
       "<IPython.core.display.Javascript object>"
      ]
     },
     "metadata": {},
     "output_type": "display_data"
    },
    {
     "data": {
      "text/markdown": [
       "<span style=\"color:#33cc99\">Solution:</span> We'll begin with the regression line for chocolate candies. Since this line has a slightly positive slope, we can say that more expensive chocolate candies tend to be more popular (than relatively cheaper chocolate candies).  Likewise, since the regression line for candies without chocolate has a negative slope, we can say that if candies don't contain chocolate, they tend to be more popular when they are cheaper.  One important note, however, is that the dataset is quite small -- so we shouldn't invest too much trust in these patterns!  To inspire more confidence in the results, we should add more candies to the dataset."
      ],
      "text/plain": [
       "Solution: We'll begin with the regression line for chocolate candies. Since this line has a slightly positive slope, we can say that more expensive chocolate candies tend to be more popular (than relatively cheaper chocolate candies).  Likewise, since the regression line for candies without chocolate has a negative slope, we can say that if candies don't contain chocolate, they tend to be more popular when they are cheaper.  One important note, however, is that the dataset is quite small -- so we shouldn't invest too much trust in these patterns!  To inspire more confidence in the results, we should add more candies to the dataset."
      ]
     },
     "metadata": {},
     "output_type": "display_data"
    }
   ],
   "source": [
    "# Check your answer (Run this code cell to receive credit!)\n",
    "step_6.b.solution()"
   ]
  },
  {
   "cell_type": "markdown",
   "id": "8ac81366",
   "metadata": {
    "papermill": {
     "duration": 0.01375,
     "end_time": "2022-07-01T04:51:41.495539",
     "exception": false,
     "start_time": "2022-07-01T04:51:41.481789",
     "status": "completed"
    },
    "tags": []
   },
   "source": [
    "## Step 7: Everybody loves chocolate.\n",
    "\n",
    "#### Part A\n",
    "\n",
    "Create a categorical scatter plot to highlight the relationship between `'chocolate'` and `'winpercent'`.  Put `'chocolate'` on the (horizontal) x-axis, and `'winpercent'` on the (vertical) y-axis."
   ]
  },
  {
   "cell_type": "code",
   "execution_count": 22,
   "id": "a28c69d2",
   "metadata": {
    "execution": {
     "iopub.execute_input": "2022-07-01T04:51:41.525904Z",
     "iopub.status.busy": "2022-07-01T04:51:41.525116Z",
     "iopub.status.idle": "2022-07-01T04:51:41.711045Z",
     "shell.execute_reply": "2022-07-01T04:51:41.709826Z"
    },
    "papermill": {
     "duration": 0.204151,
     "end_time": "2022-07-01T04:51:41.713783",
     "exception": false,
     "start_time": "2022-07-01T04:51:41.509632",
     "status": "completed"
    },
    "tags": []
   },
   "outputs": [
    {
     "data": {
      "application/javascript": [
       "parent.postMessage({\"jupyterEvent\": \"custom.exercise_interaction\", \"data\": {\"outcomeType\": 1, \"valueTowardsCompletion\": 0.3333333333333333, \"interactionType\": 1, \"questionType\": 2, \"questionId\": \"7.1_PlotSwarm\", \"learnToolsVersion\": \"0.3.4\", \"failureMessage\": \"\", \"exceptionClass\": \"\", \"trace\": \"\"}}, \"*\")"
      ],
      "text/plain": [
       "<IPython.core.display.Javascript object>"
      ]
     },
     "metadata": {},
     "output_type": "display_data"
    },
    {
     "data": {
      "text/markdown": [
       "<span style=\"color:#33cc33\">Correct</span>"
      ],
      "text/plain": [
       "Correct"
      ]
     },
     "metadata": {},
     "output_type": "display_data"
    },
    {
     "data": {
      "image/png": "[encoded data removed]",
      "text/plain": [
       "<Figure size 432x288 with 1 Axes>"
      ]
     },
     "metadata": {
      "needs_background": "light"
     },
     "output_type": "display_data"
    }
   ],
   "source": [
    "# Scatter plot showing the relationship between 'chocolate' and 'winpercent'\n",
    "\n",
    "# Your code here\n",
    "sns.swarmplot(x=candy_data['chocolate'], y=candy_data['winpercent'])\n",
    "# Check your answer\n",
    "step_7.a.check()"
   ]
  },
  {
   "cell_type": "code",
   "execution_count": 23,
   "id": "f5a77cc4",
   "metadata": {
    "execution": {
     "iopub.execute_input": "2022-07-01T04:51:41.745425Z",
     "iopub.status.busy": "2022-07-01T04:51:41.745000Z",
     "iopub.status.idle": "2022-07-01T04:51:41.749308Z",
     "shell.execute_reply": "2022-07-01T04:51:41.748337Z"
    },
    "papermill": {
     "duration": 0.022604,
     "end_time": "2022-07-01T04:51:41.751463",
     "exception": false,
     "start_time": "2022-07-01T04:51:41.728859",
     "status": "completed"
    },
    "tags": []
   },
   "outputs": [],
   "source": [
    "# Lines below will give you a hint or solution code\n",
    "#step_7.a.hint()\n",
    "#step_7.a.solution_plot()"
   ]
  },
  {
   "cell_type": "markdown",
   "id": "7a74f5a0",
   "metadata": {
    "papermill": {
     "duration": 0.014428,
     "end_time": "2022-07-01T04:51:41.780861",
     "exception": false,
     "start_time": "2022-07-01T04:51:41.766433",
     "status": "completed"
    },
    "tags": []
   },
   "source": [
    "#### Part B\n",
    "\n",
    "You decide to dedicate a section of your report to the fact that chocolate candies tend to be more popular than candies without chocolate.  Which plot is more appropriate to tell this story: the plot from **Step 6**, or the plot from **Step 7**?"
   ]
  },
  {
   "cell_type": "code",
   "execution_count": 24,
   "id": "16a5296d",
   "metadata": {
    "execution": {
     "iopub.execute_input": "2022-07-01T04:51:41.811989Z",
     "iopub.status.busy": "2022-07-01T04:51:41.811574Z",
     "iopub.status.idle": "2022-07-01T04:51:41.815909Z",
     "shell.execute_reply": "2022-07-01T04:51:41.815146Z"
    },
    "papermill": {
     "duration": 0.022267,
     "end_time": "2022-07-01T04:51:41.817790",
     "exception": false,
     "start_time": "2022-07-01T04:51:41.795523",
     "status": "completed"
    },
    "tags": []
   },
   "outputs": [],
   "source": [
    "#step_7.b.hint()"
   ]
  },
  {
   "cell_type": "code",
   "execution_count": 25,
   "id": "0c2f4514",
   "metadata": {
    "execution": {
     "iopub.execute_input": "2022-07-01T04:51:41.849848Z",
     "iopub.status.busy": "2022-07-01T04:51:41.848878Z",
     "iopub.status.idle": "2022-07-01T04:51:41.856476Z",
     "shell.execute_reply": "2022-07-01T04:51:41.855592Z"
    },
    "papermill": {
     "duration": 0.025864,
     "end_time": "2022-07-01T04:51:41.858707",
     "exception": false,
     "start_time": "2022-07-01T04:51:41.832843",
     "status": "completed"
    },
    "tags": []
   },
   "outputs": [
    {
     "data": {
      "application/javascript": [
       "parent.postMessage({\"jupyterEvent\": \"custom.exercise_interaction\", \"data\": {\"interactionType\": 3, \"questionType\": 4, \"questionId\": \"7.2_ThinkSwarm\", \"learnToolsVersion\": \"0.3.4\", \"valueTowardsCompletion\": 0.0, \"failureMessage\": \"\", \"exceptionClass\": \"\", \"trace\": \"\", \"outcomeType\": 4}}, \"*\")"
      ],
      "text/plain": [
       "<IPython.core.display.Javascript object>"
      ]
     },
     "metadata": {},
     "output_type": "display_data"
    },
    {
     "data": {
      "text/markdown": [
       "<span style=\"color:#33cc99\">Solution:</span> In this case, the categorical scatter plot from **Step 7** is the more appropriate plot. While both plots tell the desired story, the plot from **Step 6** conveys far more information that could distract from the main point."
      ],
      "text/plain": [
       "Solution: In this case, the categorical scatter plot from **Step 7** is the more appropriate plot. While both plots tell the desired story, the plot from **Step 6** conveys far more information that could distract from the main point."
      ]
     },
     "metadata": {},
     "output_type": "display_data"
    }
   ],
   "source": [
    "# Check your answer (Run this code cell to receive credit!)\n",
    "step_7.b.solution()"
   ]
  },
  {
   "cell_type": "markdown",
   "id": "fcba2ad1",
   "metadata": {
    "papermill": {
     "duration": 0.015314,
     "end_time": "2022-07-01T04:51:41.890453",
     "exception": false,
     "start_time": "2022-07-01T04:51:41.875139",
     "status": "completed"
    },
    "tags": []
   },
   "source": [
    "## Keep going\n",
    "\n",
    "Explore **[histograms and density plots](https://www.kaggle.com/alexisbcook/distributions)**."
   ]
  },
  {
   "cell_type": "markdown",
   "id": "14bed253",
   "metadata": {
    "papermill": {
     "duration": 0.014721,
     "end_time": "2022-07-01T04:51:41.920311",
     "exception": false,
     "start_time": "2022-07-01T04:51:41.905590",
     "status": "completed"
    },
    "tags": []
   },
   "source": [
    "---\n",
    "\n",
    "\n",
    "\n",
    "\n",
    "*Have questions or comments? Visit the [course discussion forum](https://www.kaggle.com/learn/data-visualization/discussion) to chat with other learners.*"
   ]
  }
 ],
 "metadata": {
  "kernelspec": {
   "display_name": "Python 3",
   "language": "python",
   "name": "python3"
  },
  "language_info": {
   "codemirror_mode": {
    "name": "ipython",
    "version": 3
   },
   "file_extension": ".py",
   "mimetype": "text/x-python",
   "name": "python",
   "nbconvert_exporter": "python",
   "pygments_lexer": "ipython3",
   "version": "3.7.12"
  },
  "papermill": {
   "default_parameters": {},
   "duration": 15.256323,
   "end_time": "2022-07-01T04:51:42.657915",
   "environment_variables": {},
   "exception": null,
   "input_path": "__notebook__.ipynb",
   "output_path": "__notebook__.ipynb",
   "parameters": {},
   "start_time": "2022-07-01T04:51:27.401592",
   "version": "2.3.4"
  }
 },
 "nbformat": 4,
 "nbformat_minor": 5
}
